{
  "nbformat": 4,
  "nbformat_minor": 0,
  "metadata": {
    "colab": {
      "name": "DL workshop.ipynb",
      "provenance": [],
      "collapsed_sections": []
    },
    "kernelspec": {
      "name": "python3",
      "display_name": "Python 3"
    }
  },
  "cells": [
    {
      "cell_type": "markdown",
      "metadata": {
        "id": "CCsL1rT5_Uno",
        "colab_type": "text"
      },
      "source": [
        "# Welcome to Deep Learning Workshop 2\n",
        "In this Workshop, we will be learning about TensorFlow and how to create a deep learning model\n",
        "\n",
        "To start off, we will need to import tensorflow library"
      ]
    },
    {
      "cell_type": "code",
      "metadata": {
        "id": "NxEReUOg97uL",
        "colab_type": "code",
        "colab": {}
      },
      "source": [
        "import tensorflow as tf\n",
        "from tensorflow import keras"
      ],
      "execution_count": 0,
      "outputs": []
    },
    {
      "cell_type": "markdown",
      "metadata": {
        "id": "s_FHoCQO_Rfe",
        "colab_type": "text"
      },
      "source": [
        "In Traditional programming, we use the data given and the rules defined by us to get the desires output.\n",
        "\n",
        "In Machine learning, we will make use of data and the output of the data to create the rules. We use these rules later to predict the output using the data given. "
      ]
    },
    {
      "cell_type": "markdown",
      "metadata": {
        "id": "8qtzmBVtAIAg",
        "colab_type": "text"
      },
      "source": [
        "![alt text](https://www.bouvet.no/bouvet-deler/6-tips-for-getting-started-with-machine-learning/_/attachment/inline/8469beef-45b3-494b-a68a-2f19948844de:7222f3d165f068511023e7a1e4b817621ae17995/Screen%20Shot%202018-09-20%20at%2009.16.16.png)"
      ]
    },
    {
      "cell_type": "markdown",
      "metadata": {
        "id": "95n2kHMOA5AL",
        "colab_type": "text"
      },
      "source": [
        "### 'Hello World' of Neural Network\n",
        "Below is a code to create a neural network which predicts y value for the given x value\n",
        "\n",
        "To get started, we first define a model"
      ]
    },
    {
      "cell_type": "code",
      "metadata": {
        "id": "eYQ6E2Zz_G9a",
        "colab_type": "code",
        "colab": {}
      },
      "source": [
        "model = keras.Sequential([keras.layers.Dense(units=1,input_shape=[1])])"
      ],
      "execution_count": 0,
      "outputs": []
    },
    {
      "cell_type": "markdown",
      "metadata": {
        "id": "_C4DZm4HFrZe",
        "colab_type": "text"
      },
      "source": [
        "In the above line Sequential defines the simplest model which constitutes of linear stack of layers. In our example, we have only one layer (Dense layer)\n",
        "\n",
        "In the dense layer, we have units=1 which means there is only one neuron and input_shape = [1] which means it intakes only one value."
      ]
    },
    {
      "cell_type": "code",
      "metadata": {
        "id": "u13jzcTeFrD-",
        "colab_type": "code",
        "colab": {}
      },
      "source": [
        "model.compile(optimizer = 'sgd', loss = 'mean_squared_error')"
      ],
      "execution_count": 0,
      "outputs": []
    },
    {
      "cell_type": "markdown",
      "metadata": {
        "id": "cYCRRUK4GnFo",
        "colab_type": "text"
      },
      "source": [
        "Compile defines loss function and optimizer function which is used while training the model"
      ]
    },
    {
      "cell_type": "code",
      "metadata": {
        "id": "Tb5KveOsGmWF",
        "colab_type": "code",
        "outputId": "b8322973-0549-48aa-c4cd-0cdfffa67bf6",
        "colab": {
          "base_uri": "https://localhost:8080/",
          "height": 1000
        }
      },
      "source": [
        "import numpy as np\n",
        "x = np.array([-2,-1,0,1,2,3,4], dtype = 'float')\n",
        "y = np.array([-3,-1,1,3,5,7,9], dtype = 'float')\n",
        "\n",
        "model.fit(x, y, epochs = 75) # the model is trained over 20 epochs using x and y  "
      ],
      "execution_count": 0,
      "outputs": [
        {
          "output_type": "stream",
          "text": [
            "Epoch 1/75\n",
            "1/1 [==============================] - 0s 1ms/step - loss: 26.3868\n",
            "Epoch 2/75\n",
            "1/1 [==============================] - 0s 1ms/step - loss: 21.1817\n",
            "Epoch 3/75\n",
            "1/1 [==============================] - 0s 1ms/step - loss: 17.0087\n",
            "Epoch 4/75\n",
            "1/1 [==============================] - 0s 2ms/step - loss: 13.6630\n",
            "Epoch 5/75\n",
            "1/1 [==============================] - 0s 2ms/step - loss: 10.9805\n",
            "Epoch 6/75\n",
            "1/1 [==============================] - 0s 2ms/step - loss: 8.8294\n",
            "Epoch 7/75\n",
            "1/1 [==============================] - 0s 2ms/step - loss: 7.1045\n",
            "Epoch 8/75\n",
            "1/1 [==============================] - 0s 2ms/step - loss: 5.7210\n",
            "Epoch 9/75\n",
            "1/1 [==============================] - 0s 2ms/step - loss: 4.6114\n",
            "Epoch 10/75\n",
            "1/1 [==============================] - 0s 1ms/step - loss: 3.7212\n",
            "Epoch 11/75\n",
            "1/1 [==============================] - 0s 2ms/step - loss: 3.0069\n",
            "Epoch 12/75\n",
            "1/1 [==============================] - 0s 2ms/step - loss: 2.4337\n",
            "Epoch 13/75\n",
            "1/1 [==============================] - 0s 2ms/step - loss: 1.9735\n",
            "Epoch 14/75\n",
            "1/1 [==============================] - 0s 3ms/step - loss: 1.6039\n",
            "Epoch 15/75\n",
            "1/1 [==============================] - 0s 3ms/step - loss: 1.3071\n",
            "Epoch 16/75\n",
            "1/1 [==============================] - 0s 1ms/step - loss: 1.0685\n",
            "Epoch 17/75\n",
            "1/1 [==============================] - 0s 1ms/step - loss: 0.8766\n",
            "Epoch 18/75\n",
            "1/1 [==============================] - 0s 2ms/step - loss: 0.7222\n",
            "Epoch 19/75\n",
            "1/1 [==============================] - 0s 2ms/step - loss: 0.5978\n",
            "Epoch 20/75\n",
            "1/1 [==============================] - 0s 2ms/step - loss: 0.4976\n",
            "Epoch 21/75\n",
            "1/1 [==============================] - 0s 2ms/step - loss: 0.4167\n",
            "Epoch 22/75\n",
            "1/1 [==============================] - 0s 2ms/step - loss: 0.3513\n",
            "Epoch 23/75\n",
            "1/1 [==============================] - 0s 2ms/step - loss: 0.2984\n",
            "Epoch 24/75\n",
            "1/1 [==============================] - 0s 2ms/step - loss: 0.2554\n",
            "Epoch 25/75\n",
            "1/1 [==============================] - 0s 2ms/step - loss: 0.2205\n",
            "Epoch 26/75\n",
            "1/1 [==============================] - 0s 2ms/step - loss: 0.1920\n",
            "Epoch 27/75\n",
            "1/1 [==============================] - 0s 3ms/step - loss: 0.1688\n",
            "Epoch 28/75\n",
            "1/1 [==============================] - 0s 2ms/step - loss: 0.1497\n",
            "Epoch 29/75\n",
            "1/1 [==============================] - 0s 1ms/step - loss: 0.1339\n",
            "Epoch 30/75\n",
            "1/1 [==============================] - 0s 2ms/step - loss: 0.1209\n",
            "Epoch 31/75\n",
            "1/1 [==============================] - 0s 1ms/step - loss: 0.1100\n",
            "Epoch 32/75\n",
            "1/1 [==============================] - 0s 1ms/step - loss: 0.1009\n",
            "Epoch 33/75\n",
            "1/1 [==============================] - 0s 1ms/step - loss: 0.0932\n",
            "Epoch 34/75\n",
            "1/1 [==============================] - 0s 1ms/step - loss: 0.0867\n",
            "Epoch 35/75\n",
            "1/1 [==============================] - 0s 1ms/step - loss: 0.0811\n",
            "Epoch 36/75\n",
            "1/1 [==============================] - 0s 2ms/step - loss: 0.0762\n",
            "Epoch 37/75\n",
            "1/1 [==============================] - 0s 2ms/step - loss: 0.0720\n",
            "Epoch 38/75\n",
            "1/1 [==============================] - 0s 4ms/step - loss: 0.0683\n",
            "Epoch 39/75\n",
            "1/1 [==============================] - 0s 2ms/step - loss: 0.0650\n",
            "Epoch 40/75\n",
            "1/1 [==============================] - 0s 2ms/step - loss: 0.0620\n",
            "Epoch 41/75\n",
            "1/1 [==============================] - 0s 2ms/step - loss: 0.0594\n",
            "Epoch 42/75\n",
            "1/1 [==============================] - 0s 2ms/step - loss: 0.0569\n",
            "Epoch 43/75\n",
            "1/1 [==============================] - 0s 2ms/step - loss: 0.0547\n",
            "Epoch 44/75\n",
            "1/1 [==============================] - 0s 2ms/step - loss: 0.0526\n",
            "Epoch 45/75\n",
            "1/1 [==============================] - 0s 2ms/step - loss: 0.0507\n",
            "Epoch 46/75\n",
            "1/1 [==============================] - 0s 2ms/step - loss: 0.0489\n",
            "Epoch 47/75\n",
            "1/1 [==============================] - 0s 3ms/step - loss: 0.0472\n",
            "Epoch 48/75\n",
            "1/1 [==============================] - 0s 2ms/step - loss: 0.0456\n",
            "Epoch 49/75\n",
            "1/1 [==============================] - 0s 3ms/step - loss: 0.0441\n",
            "Epoch 50/75\n",
            "1/1 [==============================] - 0s 2ms/step - loss: 0.0427\n",
            "Epoch 51/75\n",
            "1/1 [==============================] - 0s 2ms/step - loss: 0.0413\n",
            "Epoch 52/75\n",
            "1/1 [==============================] - 0s 2ms/step - loss: 0.0400\n",
            "Epoch 53/75\n",
            "1/1 [==============================] - 0s 2ms/step - loss: 0.0387\n",
            "Epoch 54/75\n",
            "1/1 [==============================] - 0s 2ms/step - loss: 0.0375\n",
            "Epoch 55/75\n",
            "1/1 [==============================] - 0s 2ms/step - loss: 0.0363\n",
            "Epoch 56/75\n",
            "1/1 [==============================] - 0s 2ms/step - loss: 0.0352\n",
            "Epoch 57/75\n",
            "1/1 [==============================] - 0s 2ms/step - loss: 0.0341\n",
            "Epoch 58/75\n",
            "1/1 [==============================] - 0s 2ms/step - loss: 0.0330\n",
            "Epoch 59/75\n",
            "1/1 [==============================] - 0s 2ms/step - loss: 0.0320\n",
            "Epoch 60/75\n",
            "1/1 [==============================] - 0s 3ms/step - loss: 0.0310\n",
            "Epoch 61/75\n",
            "1/1 [==============================] - 0s 3ms/step - loss: 0.0301\n",
            "Epoch 62/75\n",
            "1/1 [==============================] - 0s 2ms/step - loss: 0.0292\n",
            "Epoch 63/75\n",
            "1/1 [==============================] - 0s 2ms/step - loss: 0.0283\n",
            "Epoch 64/75\n",
            "1/1 [==============================] - 0s 2ms/step - loss: 0.0274\n",
            "Epoch 65/75\n",
            "1/1 [==============================] - 0s 2ms/step - loss: 0.0266\n",
            "Epoch 66/75\n",
            "1/1 [==============================] - 0s 2ms/step - loss: 0.0258\n",
            "Epoch 67/75\n",
            "1/1 [==============================] - 0s 1ms/step - loss: 0.0250\n",
            "Epoch 68/75\n",
            "1/1 [==============================] - 0s 2ms/step - loss: 0.0242\n",
            "Epoch 69/75\n",
            "1/1 [==============================] - 0s 2ms/step - loss: 0.0235\n",
            "Epoch 70/75\n",
            "1/1 [==============================] - 0s 1ms/step - loss: 0.0228\n",
            "Epoch 71/75\n",
            "1/1 [==============================] - 0s 1ms/step - loss: 0.0221\n",
            "Epoch 72/75\n",
            "1/1 [==============================] - 0s 1ms/step - loss: 0.0214\n",
            "Epoch 73/75\n",
            "1/1 [==============================] - 0s 2ms/step - loss: 0.0208\n",
            "Epoch 74/75\n",
            "1/1 [==============================] - 0s 2ms/step - loss: 0.0201\n",
            "Epoch 75/75\n",
            "1/1 [==============================] - 0s 2ms/step - loss: 0.0195\n"
          ],
          "name": "stdout"
        },
        {
          "output_type": "execute_result",
          "data": {
            "text/plain": [
              "<tensorflow.python.keras.callbacks.History at 0x7f36a7ed2ba8>"
            ]
          },
          "metadata": {
            "tags": []
          },
          "execution_count": 5
        }
      ]
    },
    {
      "cell_type": "markdown",
      "metadata": {
        "id": "5MuQ4L2GR0DZ",
        "colab_type": "text"
      },
      "source": [
        "As you can observe from the given data, y = 2x + 1. We have now used the data and trained a model using tensorflow. Lets see how accurate are the predictions "
      ]
    },
    {
      "cell_type": "code",
      "metadata": {
        "id": "IfqCrGxiRzfv",
        "colab_type": "code",
        "outputId": "96776bd4-2d53-479e-adf6-8b7b668e1f70",
        "colab": {
          "base_uri": "https://localhost:8080/",
          "height": 34
        }
      },
      "source": [
        "print(model.predict([5])) # y = 2 * 5 + 1 = 11"
      ],
      "execution_count": 0,
      "outputs": [
        {
          "output_type": "stream",
          "text": [
            "[[11.024785]]\n"
          ],
          "name": "stdout"
        }
      ]
    },
    {
      "cell_type": "markdown",
      "metadata": {
        "id": "plROYAeSSqD8",
        "colab_type": "text"
      },
      "source": [
        "As you can see from the prediction, we got answer which is very close to the actual answer but its not the same. The reason for this is due to less data provided and the fact that neural networks deal in probability."
      ]
    },
    {
      "cell_type": "markdown",
      "metadata": {
        "id": "Yvr6meQuU1uD",
        "colab_type": "text"
      },
      "source": [
        "### Exercise 1\n"
      ]
    },
    {
      "cell_type": "markdown",
      "metadata": {
        "id": "qpm4AzLFWxax",
        "colab_type": "text"
      },
      "source": [
        "You are a property agent in Singapore. You have realised that a house in the centre of the city will cost \\$5 million and for every kilometer of distance you move away from the house, the price drops by $0.1 million. Create a neural network which predicts cost of the house based on distance from the city.\n",
        "\n",
        "Hint:\n",
        "1) use a small scale value(in terms of million)\n",
        "2) Bigger the dataset, better the prediction\n",
        "3) In this case, number of epochs will improve your prediction but it leads to overfitting (we will discuss this later in the workshop) "
      ]
    },
    {
      "cell_type": "code",
      "metadata": {
        "id": "bnkgl6pjWte7",
        "colab_type": "code",
        "outputId": "ceeb2083-6f25-4957-b621-c643e0943b1b",
        "colab": {
          "base_uri": "https://localhost:8080/",
          "height": 128
        }
      },
      "source": [
        "#create your model\n",
        "model = # Your Code Here#\n",
        "model.compile(# Your Code Here#)\n",
        "xs = # Your Code Here#\n",
        "ys = # Your Code Here# \n",
        "model.fit(# Your Code here#)"
      ],
      "execution_count": 0,
      "outputs": [
        {
          "output_type": "error",
          "ename": "SyntaxError",
          "evalue": "ignored",
          "traceback": [
            "\u001b[0;36m  File \u001b[0;32m\"<ipython-input-7-27e1d687001c>\"\u001b[0;36m, line \u001b[0;32m2\u001b[0m\n\u001b[0;31m    model = # Your Code Here#\u001b[0m\n\u001b[0m                             ^\u001b[0m\n\u001b[0;31mSyntaxError\u001b[0m\u001b[0;31m:\u001b[0m invalid syntax\n"
          ]
        }
      ]
    },
    {
      "cell_type": "markdown",
      "metadata": {
        "id": "eo7JE9vcXs04",
        "colab_type": "text"
      },
      "source": [
        "After creating your model, check your answer with the code given below"
      ]
    },
    {
      "cell_type": "code",
      "metadata": {
        "id": "ttpqh9kWSqfm",
        "colab_type": "code",
        "colab": {}
      },
      "source": [
        "print(model.predict([0.0]))\n",
        "print(model.predict([10.0]))\n",
        "print(model.predict([15.0]))\n"
      ],
      "execution_count": 0,
      "outputs": []
    },
    {
      "cell_type": "markdown",
      "metadata": {
        "id": "MTggVcGjYtAs",
        "colab_type": "text"
      },
      "source": [
        "## Computer Vision using Neural Networks\n",
        "In this part of the workshop, we will be working on fashion_mnist dataset which consists of images of 10 items."
      ]
    },
    {
      "cell_type": "code",
      "metadata": {
        "id": "gufk5FwOZa2i",
        "colab_type": "code",
        "outputId": "d1b58e85-6197-4b1b-a360-dc3277ce3707",
        "colab": {
          "base_uri": "https://localhost:8080/",
          "height": 50
        }
      },
      "source": [
        "mnist = tf.keras.datasets.mnist\n",
        "(training_images, training_labels), (test_images, test_labels) = mnist.load_data()\n"
      ],
      "execution_count": 0,
      "outputs": [
        {
          "output_type": "stream",
          "text": [
            "Downloading data from https://storage.googleapis.com/tensorflow/tf-keras-datasets/mnist.npz\n",
            "11493376/11490434 [==============================] - 0s 0us/step\n"
          ],
          "name": "stdout"
        }
      ]
    },
    {
      "cell_type": "code",
      "metadata": {
        "id": "Fhj4P-P9-BuP",
        "colab_type": "code",
        "outputId": "983ab16c-6b78-4bfe-edad-17eb23164e09",
        "colab": {
          "base_uri": "https://localhost:8080/",
          "height": 50
        }
      },
      "source": [
        "print(len(training_images))\n",
        "print(len(test_images))"
      ],
      "execution_count": 0,
      "outputs": [
        {
          "output_type": "stream",
          "text": [
            "60000\n",
            "10000\n"
          ],
          "name": "stdout"
        }
      ]
    },
    {
      "cell_type": "code",
      "metadata": {
        "id": "pSkLwmi6vOVZ",
        "colab_type": "code",
        "outputId": "7abaaa79-5288-45be-8799-46eb1c0de746",
        "colab": {
          "base_uri": "https://localhost:8080/",
          "height": 315
        }
      },
      "source": [
        "import matplotlib.pyplot as plt\n",
        "image_index = 5 # You may select anything up to 60,000\n",
        "print(training_labels[image_index]) # The label is 8\n",
        "print(training_images[image_index].shape) # The image is 28 x 28 pixels\n",
        "plt.imshow(training_images[image_index], cmap='Greys')"
      ],
      "execution_count": 0,
      "outputs": [
        {
          "output_type": "stream",
          "text": [
            "2\n",
            "(28, 28)\n"
          ],
          "name": "stdout"
        },
        {
          "output_type": "execute_result",
          "data": {
            "text/plain": [
              "<matplotlib.image.AxesImage at 0x7f36a50768d0>"
            ]
          },
          "metadata": {
            "tags": []
          },
          "execution_count": 10
        },
        {
          "output_type": "display_data",
          "data": {
            "image/png": "[encoded data removed]",
            "text/plain": [
              "<Figure size 432x288 with 1 Axes>"
            ]
          },
          "metadata": {
            "tags": [],
            "needs_background": "light"
          }
        }
      ]
    },
    {
      "cell_type": "code",
      "metadata": {
        "id": "tUZVKKXEunoB",
        "colab_type": "code",
        "colab": {}
      },
      "source": [
        "model = tf.keras.Sequential([tf.keras.layers.Flatten(),\n",
        "                            tf.keras.layers.Dense(128, activation = 'relu'),\n",
        "                            tf.keras.layers.Dense(10, activation = 'softmax')])"
      ],
      "execution_count": 0,
      "outputs": []
    },
    {
      "cell_type": "markdown",
      "metadata": {
        "id": "NY1x54qXvORF",
        "colab_type": "text"
      },
      "source": [
        "While creating this model, we use a Flatten layer to take the matrice as an input and make it into an 1D list. This 1D list then goes through a neural network whose first layer has 128 nodes and second layer has 10 nodes.\n",
        "\n",
        "We have come across a new term called activation. It helps us define an activation function which is applied to the output of a neural network layer, which is then passed as the input to the next layer. There are several types of activation functions:\n",
        " - relu - if input x > 0 return x, else return 0\n",
        " - softmax - takes a set of values and picks the biggest value. eg - input [1,2,1,5,8,3,4,6,3] , output = [0,0,0,0,1,0,0,0,0]\n",
        " - sigmoid - returns 1/(1+exp(-x)) - used in binary classification\n",
        " - tanh - returns tan(x)\n",
        " - linear - returns m*x + c where m and c are weights changed while fitting the model\n",
        " - exponential - returns exp(x)\n",
        " - softplus - returns log(exp(x)+1)\n",
        " - softsign - returns x/(abs(x)+1)\n",
        "\n",
        " For this workshop, we will be using only relu, softmax and sigmoid.\n",
        "\n"
      ]
    },
    {
      "cell_type": "markdown",
      "metadata": {
        "id": "M4qB3codgk3v",
        "colab_type": "text"
      },
      "source": [
        "We will be using adam as the optimizer. There are different types of optimizers which can be beneficial in different scenarios. Adam is an adaptive learning rate optimization algorithm that’s been designed specifically for training deep neural networks. \n",
        "\n",
        "The learning rate rate of your optimizer changes over time"
      ]
    },
    {
      "cell_type": "code",
      "metadata": {
        "id": "kuf4Tk5jvNWj",
        "colab_type": "code",
        "colab": {}
      },
      "source": [
        "adam = keras.optimizers.Adam(learning_rate = 0.001, beta_1 = 0.9, beta_2 = 0.999, amsgrad = False)\n",
        "model.compile(optimizer = adam,\n",
        "              loss= 'sparse_categorical_crossentropy',\n",
        "              metrics = ['accuracy'])"
      ],
      "execution_count": 0,
      "outputs": []
    },
    {
      "cell_type": "markdown",
      "metadata": {
        "id": "QqNJ5gyEgcDK",
        "colab_type": "text"
      },
      "source": [
        "The amount that the weights are updated during training is referred to as the step size or the “learning rate.” If the value is too high, it will lead to over-fitting and if its too low, it will take more epochs to train the model."
      ]
    },
    {
      "cell_type": "markdown",
      "metadata": {
        "id": "IUYATqx9gg6i",
        "colab_type": "text"
      },
      "source": [
        "In the statement, we are fitting the model using only are training imafes and training labels. We are going to run it through 3 epochs and see the results"
      ]
    },
    {
      "cell_type": "code",
      "metadata": {
        "id": "BUl8VQziy8i3",
        "colab_type": "code",
        "outputId": "209837e0-960a-436c-ad48-e2bf067be8ed",
        "colab": {
          "base_uri": "https://localhost:8080/",
          "height": 134
        }
      },
      "source": [
        "model.fit(training_images, training_labels, epochs = 3)"
      ],
      "execution_count": 0,
      "outputs": [
        {
          "output_type": "stream",
          "text": [
            "Epoch 1/3\n",
            "1875/1875 [==============================] - 3s 2ms/step - loss: 2.3548 - accuracy: 0.8529\n",
            "Epoch 2/3\n",
            "1875/1875 [==============================] - 3s 2ms/step - loss: 0.3873 - accuracy: 0.9103\n",
            "Epoch 3/3\n",
            "1875/1875 [==============================] - 3s 2ms/step - loss: 0.2734 - accuracy: 0.9323\n"
          ],
          "name": "stdout"
        },
        {
          "output_type": "execute_result",
          "data": {
            "text/plain": [
              "<tensorflow.python.keras.callbacks.History at 0x7f369ca37e10>"
            ]
          },
          "metadata": {
            "tags": []
          },
          "execution_count": 54
        }
      ]
    },
    {
      "cell_type": "markdown",
      "metadata": {
        "id": "wa4KX-ytsenS",
        "colab_type": "text"
      },
      "source": [
        "Let's make prediction using our test set to check if the predictions are correct. We can see that when we get the prediction for an image from a model, it returns a list of float numbers. These numbers signify the probability of the image being that specific category. To find the category, we find the index of the biggest number in the list.\n",
        "\n"
      ]
    },
    {
      "cell_type": "code",
      "metadata": {
        "id": "-7KCeDQln2lK",
        "colab_type": "code",
        "outputId": "86ea0c69-19a8-4012-fbc5-080491939cab",
        "colab": {
          "base_uri": "https://localhost:8080/",
          "height": 84
        }
      },
      "source": [
        "import numpy as np\n",
        "pred = model.predict(test_images)\n",
        "print(pred[100])\n",
        "print(np.argmax(pred[100]))\n",
        "print(test_labels[100])"
      ],
      "execution_count": 0,
      "outputs": [
        {
          "output_type": "stream",
          "text": [
            "[1.0089011e-05 7.6075322e-22 3.0516854e-15 7.7785739e-14 2.5561155e-06\n",
            " 4.4426611e-06 9.9998271e-01 1.6896574e-07 2.4136115e-08 4.0872804e-13]\n",
            "6\n",
            "6\n"
          ],
          "name": "stdout"
        }
      ]
    },
    {
      "cell_type": "markdown",
      "metadata": {
        "id": "sjCYMYCwwRmK",
        "colab_type": "text"
      },
      "source": [
        "Melody - add the model evaluation part over here"
      ]
    },
    {
      "cell_type": "code",
      "metadata": {
        "id": "2WoXvDG4wbEO",
        "colab_type": "code",
        "colab": {}
      },
      "source": [
        ""
      ],
      "execution_count": 0,
      "outputs": []
    },
    {
      "cell_type": "markdown",
      "metadata": {
        "id": "7PGDlWC0wbhA",
        "colab_type": "text"
      },
      "source": [
        "## Convolutional Neural Networks\n",
        "In this part of the workshop, we will be learning about convolutional layer, pooling layer and how it plays a part in image classification. \n",
        "\n",
        "Convolutional layer helps us identify relation between the pixel and its surrounding pixels. \n",
        "\n",
        "![alt text](https://lh3.googleusercontent.com/proxy/iSdxLz9L9vYKskgeExM6m0iB8ixxqVQjTYHQ9MekkD01vkhupF6sTy0H4UnzoBJyfq9Bh1CIo-ta4_SwdFGM2XkgFsiw6eHz-Ps_YLYuZhK9GYOfJ-L_hlYbBv_2KQR5G72auQ)\n",
        "\n",
        "In the example given above, the convolutional layer creates a 3 X 3 filter which is labeled as K. This filter is use on the original image to find the relation between the pixels by applying the filter for every set of of pixel. In this example, the filter is multiplied to the original image pixel and then the values are added to give a new 2D array. Convolutions can be performed multiple times and can have different dimensions to improve the models prediction.\n",
        "\n",
        "\n",
        "\n",
        "\n"
      ]
    },
    {
      "cell_type": "markdown",
      "metadata": {
        "id": "A-lFsNHTzB1j",
        "colab_type": "text"
      },
      "source": [
        "Pooling layer reduce the spatial size of the representation to reduce the amount of parameters and computation in the network. While using the pool layer, we need to make sure that we reduce the size to help in computation without losing important features which will help in classification. "
      ]
    },
    {
      "cell_type": "markdown",
      "metadata": {
        "id": "sLO-eDLLy-Nb",
        "colab_type": "text"
      },
      "source": [
        "![alt text](data:image/jpeg;base64,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)"
      ]
    },
    {
      "cell_type": "markdown",
      "metadata": {
        "id": "QXGgtNCx0EDx",
        "colab_type": "text"
      },
      "source": [
        "In the example given above, max pooling with 2 x 2 filter is used to find the largest number in 2x2 filter and create a smaller 2D array for computation"
      ]
    },
    {
      "cell_type": "markdown",
      "metadata": {
        "id": "-E0zLx07ynBp",
        "colab_type": "text"
      },
      "source": [
        "For computer vision, we are going to use couple of convolutional and pooling layers to compute the data and then flatten this data into a 1D array. After flattening it, we use dense layer to compute the data and find the image classification. \n",
        "\n",
        "![alt text](data:image/jpeg;base64,/9j/4AAQSkZJRgABAQAAAQABAAD/2wCEAAkGBxISEhUSEhIVFhUXFRgYGBgWGBgaGBgbFRgXGBgZGBgbICggIB4lGxgYITEhJSorLi4uGB8zODMtNygtLisBCgoKDg0OGxAQGzIlICUtLS0tLS0yLy0tLS8vNS0tLS0tLS0vLy0tLS0tLS0tLS0tLS0tLS0tLS0tLS0tLS0tLf/AABEIAHsBmgMBIgACEQEDEQH/xAAbAAEAAwEBAQEAAAAAAAAAAAAAAwQFAQIGB//EAEkQAAIBAgMDBgsEBwYGAwAAAAECEQADBBIhEzFBBSIyUWFxI0JSU3KBkZOhsbIGM4LTFBVzkqLB0gdDYsLR8BYkY7Ph8YOjw//EABkBAQEBAQEBAAAAAAAAAAAAAAABAgMEBf/EACcRAQACAQQCAQMFAQAAAAAAAAABEQISITFBAyIEUWHwEzNCcZEy/9oADAMBAAIRAxEAPwD9xpSo715UEsYH+93WeygkqpjcelveZPkjf/44+ys+7yjcunJZBA8rj39QHxImIIirGD5IVec/Obfru/8AJ3anqBgGtVXLGqZ4VQt7E7+bb+B/m3foNxEEVqYTApb6I14sd5/32VZpUmVjGlfCb7npn6VqxVfCb39M/JasUlYKVxjGpqrt2f7vRfLI+gce86d9RbS38QFgaknco1J7h/M6Cq9rEXjPg0gMR94Z0/DHxqxYw4WY1J3sdSe8/wAtw4V5wnj+m38qqbvAxZHStXB2jK3wVifhQ8pWh0myemGT6gKkv4kKcoBZuCjf3ngB2moLmHLAm4QdDCjoD+o9p6tAKJv0ug12osN0F9EfIVLUaKUpQKUpQKUpQKUpQKUpQKUpQKUpQKUpQKUpQKUpQKUpQKUpQKUpQKUpQKUpQKUpQKUpQKUpQZeN5XVTltjM27rHw3nfoOoiZ0qGzya9057zH0ePd1Ad2/Q6EV6+z9sQTAkQJ4xH/r2VsVq64YiNW8vFq0qiFAA7K91wmvlOUftazObGAtbe4N7f3ad50n2gdppjhOXBnnjhG76ylfGYe5yjh7tq7irqPauXBbdFA5huaIZyjxoG87+PD7Ornhp7swz1dV/avhN7+mfkKY3FrbAJBMmAAJ1368AO00wnj+m1dv8ATt97fSaz210qWLiXTz7iMfIVgVHeN7HtPVoBWjXi7ZVhDKGHaAfnUH6uteKuX0CyfSRQ3WXcAEkgAbydAKzsK7uXy81c55xHOOg6Knd3n2HfUlrDDaEEswVUKhiWgkvJ1480andw41Nhd9z0z9K0Tl5uXLdhSTpvPFmaBqeLMYr0MUjq2UyQDI3MNPGU6j11m46wp27ZmVzzBlMlvBKQoUyDqTwnU1y/eD6MEuMAYibV4dysQfXmHdVpLa+G6C+iPlUtY2ExbKFUOG0HMujZ3N3iGAG9n4q0LONVjlMq/kuIPbHBu9SRUmGolZpSlRSlKUClKUClKUClKUClKUClKUClKUClKUClKUClKUCqt3lKypKtdQEbwWAI0nUT1EH11arCTF3NriFS2WVW5xBUam1bygSRwknvXrqxFs5TTbVgRI3V6r5zDh1ILNcNs2rTQpIKDLlJAHSEiTxGYb91ayYNSARcuEESCLhgg7iDSiMrXGaNTVa1ylZYgLdtkncAyknjpr1VVv28rFQznwbsczkgaQNO2T+6ajW+5FgG0yjMupKEdBuozViEnJsUpSsto799UEuyqOtiAPaa8YfF27k5HVo35WBid0x3VX5UYg2SFLHa7hA/u7nWQKisXCbt0spTwVveRMZr2sqTVpm96ac1D+mW4nOsQTOYRCmGO/gd/VVP9JtJbuOHe4FUswzZjABJiSOE+ysLJhWJUm/NtWs70EASpXm6Tzh281T2nUY2zlnT65HBAIMg6gjce6vVY3JfKdobKwgfVJQtl1QTDEg9m7fqNN8bNZmKbxm4ZP2f6Ler5VrVk/Z/ot+H+dWMfymtvTe3VuA7zw3j2irPLOM1ixuWUu4y82Etubdi2Bt3XpMWEi0v4YJ7x3Hc5N5OtWEFu0gVRwHHtJ3k9prJ5MS/bYmFy3rrMc4IOYqTpHDKgXXqG8Vk8u/bwWS1u2iO40zK5ZFPGeaJPYD666xjln6YuWvDD3z5/OG99rh/yd4jeii4O+0wuf5a10aQCOIn21+Jco/aHFX52l94PiqcqweGVYBHfNfef2e8s5sMVuuZtuVDGTzSAQC27SSNTuArp5fjZYeO5cvF8rHyeSo+j6vCeP6bV2907fe30mq/J+NttmAuITnbcwnfVi907fefpNeXt7InZPSuTXaiq1v71/Qt/Vcphd9z9p/kSu2/vX9C39VyuYTpXf2n+RKspDxc5PGc3FZkZt5BB3ADcwIG4bo3VFisNcKMGNu4sHR0j2kEj+GtGvNzce40sqGKmGOzUbNwCokI6ukR5F3T2Cq94ZQQWAXiLisiabhlugp+6yVvYP7tPRX5Cq3KNhXa2rTGYnQkaqpI3HWDrrVid2Zx22YVvlO9E25Fs+O3OXjqpJMd5dxuhTUuAxGGe62cCSlvnXOdJzXJOc7uETl4QK1LnJKklsxnrZUJH4gof+Kse7yELlx4KtzEMgspMm74zbQ8OFaiYliYyhv/AKCvitcXudiPYSR8Kr33dTlS6zv5LKhA7WK5co7zrGk1hYPkXGW2dbGKyKsDI4zqZE6NoV0O8a761+TLlxX2TIiR0hbJcNIJzszANJIA1HrPBONd2sZX1TR5PusyAvGaWByzEqxXSdeFWaq8m9A/tLv/AHXpykpKZQzLLKJUwYLAGD3Vjt06LmJklbYzMNCfFX0j19g17t9V3wYNxc7FiUczJUCDb6IB03nt6yalt4W4gAS4IG4MikexMtRXDeFxdLbHI/Fk42+ENVj7JP3T/oUdG5cX8Wb681NjdG66p9NJPtUr8qfpLjfZf8JQj4sD8Kits94BpKWyARHTYHdJHRHdr2jdUNkV7lJ0bKUV4IzZGMqCQJYEQN+7NJ4Vq1Qx1lUslVAAldB2sJq/SViylKVFKUpQKUpQKUpQKUpQQ4u+EUtE8AOskwqjvJA9dYuFtldsGxJVs5JHg9SbaExmBMSdB1RWmPCXZ8W3u7XI1/dUx3sfJqlm51/wDPz+kNlH3VvymBrUOeSa3zUw9zqVFPo3Ao+vIfUale0bRLICUJlkG8TvZB8SvHeNZDdw9kPh1Q7mtAT1SoEin6YdhtIGfLEf9ScuX9/So0isOHW7dBkMCqn/AA2wR9ec+sVWsx4D/mC/OXmk2vIbyVB076tLgRaQ5WMbMhhwYhen2MePXVW233HgGTnLzjso6DeSxPwrUMy3KV42y+UPaKbZfKHtFYdLU+VFJNkBip2u8RP3dzrBFR4ZGW9d55c7K1GbKPGvac1f5GnK5VtlKbQbXogK0+DucDpXnkxVF67ltbPwdrTKonnXteaa10x/JbTOwYXEQSIAzFwZmQwKjSsJ8bd0P6EMxVmEodLgLZJIB3kOcw8teuvp65FImlyxvtn8lqHTO1gW2zvoVAIhmAM9ZEmRvzdtaNKVJlYioZPIG5u5fkTUV2yrYqGUMM0wROotiDUvIG5u5PlVTlTHJh7+0vHImpDEaHmQQI46buPDjW4iZmoc5mIxiZUf7RLQt4TMgynaKJXQwQwIkdYr8rr7P7d/aG7dC2dibdtouKXHPYawY8Ub9NTXxlfT+LjOPj3fJ+ZnGXk2fS/YTAWLt24cRlKJb0DGBLGJ9QB9tan9nl20tq6bjXB4QRla4o6PEqQs99fGYfFPbzZGK51KNB3qd4r9M/s45JuWbLvdt5WdwVzDnZco9Y1nQ1z+VtjMzPNU6fEnVljERxdys2XVwwSxfuSzRNxgh18osRUTcjXWZctu3YkmDtbrtuO8IUH8VfS4Lc3pv9Rrt7p2+9vpNfP1VL6ei43Y6fZ14hsVeYHerGUjuaW46SxggVv0pWZmZ5ajGI4V7f3r+gn1XK5held/aD/t267b+9f0E+dyuYXpXf2g/wC3boqzXm7uPca9V5u7j3Goso8H92nor8hUeI6dvvb6TUmD+7T0V+QqPE9O33t9Jq9pPDNW491A920xQrmVFKFIIkZ5ILGDuiOyRNQ4EWM3OtwdjZ1NthB8JJzAd2s1a5Mvm5ZtrbIjZqGc+iAQo4ntOnfur1Ytst5kW6NLVqM6gmA10eKVrV8w51xKHDtZzXSuIKwRrtZgZRwckfCvZvX5XI3MZom8nOMgkQq5YEjewns41HjEclwyW3G1s7yRxt8CD86Yq0mZVWwysGDEWyq6ayeYwjvMTQWOT8S6oc9sxnuc5OcPvH4aN7Aanu4tHACsCQ6SPGHPG9TqPXVDAKwQ5f0gc+5uNtv7xvLJqPlNnyjOJAZdbltJHOHEOI9lK3W9n0Iqvc+9T0H+q3Xz/wCsnX7tp/w5xc/h1b1Z65b+0VzOC+EurCsA0QpzNbAJnUCY3Zt9IwknyQ+pqryV9xa/Zp9IrpxqKFzsqFlmGIB4Tv6pqtyRjbRs2gLiE7NBAZZ6I7azTd7p+Vfuz3r9a1NiLuRGaJyqTA4wJqDlMzaMdafWte+UfurnoN9JoPnOUeV5OW7bMSJViAnNdQQAJznXeYHUN9XEx+Gicty0Oxio/dRv5V7x2CuCToRn5sOyEB7gYggKQxmNSeA0HFcwbTJtsT1slhh8MrVvanL2tMuJt7ximUcA+UD+NQ3xqS7irixD27k9FVUhm7iGI7zEDjFZdzBJvKa9ZW/bA9ZzrWTdKIYBUsWbdct5iVKgeFGR1AHXI7KsYxKTnMPtcDfLoGZcrSQVBmCpKkTAnUdVWK+c+zfLiP4Eh8+e5BI0YFnacw5s9YH/AK+jFc8omJdcMoyi4ZIvPc1ZHW2dwTLLDgWIbN+EDvJqLk7YbG3OZPBrJ8JbB5o1nQGr2DuBbKMdwQE+zsrvJDA2LRHm0+kVUrd4tKrfd32jsZH+LAn41FyjiLlpJ2iEkhVDIZLNuHNb16DcDV+7h0bpKrd4B+dULOBQYksBGW0oAG4Z2fMQOBhANKRRMS98ju2UoyZSsazJbNJLMIEEmSR2+qoktXC1/LcCjabss/3VvjNXLH3tzuT/ADVlXNjnxGdHLZ94t3WH3VvioIpCTtDW5O+6t/s1+kVTKnb7LxSdt2aDLl/fh6ucnfdW/wBmn0iqLHwm34C5svwdA/8A2me5akNTxDRxXQb0T8jWZsXy2MzhlzLIyATKNxmtPFdBvRPyNYuH2M2MiOGzLqbd1R0GnVlAqwmXLX/QbXmrf7q/6V39BteaT91f9KsUqXLVQzcfYjZC3lTwvBRH3dzhpXcGjC/czNmOytcI8a921zlrL4LNmja+IHLfd3N2Tneyo+Sym2u5NpGztfeC4D0r27aax3VemP5NalKq8mNNpDM80cWb+JgCe8gVl0WqUpQZPIG5u5PlXzX9qx8HY6to2n4a+l5A3N3J8jXzn9qNpnTDqqlmNxgAASScvACvR4P3YeXz/sT+dvmvt7yvbxF9DZOZEtgSOskkj1CPjWZyJyHfxTZbSaDpOdEXvPX2DWvq/s39gZh8WY47JTr+Nhu7h7a/QcNh0tqERQqgQAogD1V6M/k4+PHR49/u82HxcvLlr8m1vz7lLAW+SbSXEQXsQ5IFy50UgTKp/wCZ7eFfT/YjF3L2ES5dYs7NcknsuMB8Kzf7RuT7t9bCWULttG3bhzd5O4DtNbX2W5LbDYZLLkFlzEld0sxaB3TFcfJlGXiiZ/6mXo8eE4+aYiPWIX8Fub03+s12907fe30muYHc3pv9bV2/07fe30mvM9XSeleLlwKJJiouc/Wq/wAR/wBPn3VFRbaLrgCTkTQcNbm88K6uHuAswdQWMkFCRMBdIYHcBXcOgFxwBAyJ87lW6spEKue8PFRu0MQfYVPzrxfxpUHNbcDr5rewKST7Kme9JhBJ4ngO89fYPhXbdmDJOZus8O4cP976DuFWEUHeFHyFQ4tgHtkkAAtJOgHNO81bqDE4RLkZhOUyNSCD1gikE8Kty0L25FC+WygsfRBGnefYd9ehyTaiMp/eYzwkgmCe+pv0U8Ljj1q31Amht3RudT6SGfaGHypaV9mWORwzXFF24kOh5uUbgrDQCPaDXTgivMt3rzNxEpEnjcdVDTu4zHA1dTC3CzFmAViDCTJgAdLgNOGvbVy1aCiFAA6hVnJIxhRwnJSqgDy5kkyzlZYljCsx01r1iMFaUArbQHOmoUA9IVfqDGYZbi5GmDB0JB0II1HdUta22RtiCxy2wDGhY9Bf9T2D1kU/V6HVwLjdbgH2DcB2CuJhHUQt1oGgDKhAjsUKfjXQL44229TJ8Zah/bFxHJjbQ5LNwQTz0ulcwMQAFuKYG7Xqqpg+S8S1pMrtBRdLjFl3DgLkxX0u3ujpWZ9B1P1ZarYLC3GtotzmKqKCqnnGABzmG4di+3hW9UsaIt89d5KvudmqYcmeewNyFgzqTIn/AAiT11ZvfZ/FFWAxCrIOg2sbt3TiPVX1Nq2FAVQABoABAHcK91P1JX9KHxo5IxhA2uJvRvI2Vq4nsLMWHeK0MJhkSM+IcAb5Q2AfWoUV9FSk5zJHjiGfZQN93iGI6gyOPaQT8aq271xMwzq7F2hMhztrrqGgDtIAHE1qXsJbfporekoPzph8LbSciKsmTAAnvqW1pVcLhmCBiqbXMx4kKLlwswDRO4+0VYsbSefliPFmZk9fDLl9c1YpUtYhkW7D5Ql22SoEZVylWA4tJBPoxHfUd3CWQSyLszvIa0wQ9+gg9qkds1t0paaWNh8VbJCbQo53Rdzq3oFpB7iAeyvblkuudqPu7fTWSeddgAJlk9gmtK9YVxDKrDqYAj2GqFvk3YnNZVd0ZW3xvhX3juMjuq3CVKfAK8u7gDNAAG+FnUjgTO6T/pBc2iM4AtEXHlc1wqxOzUEAZDPQJ0O6rWHxascuqsBJRtGHb2jtEjtruIRi1siYDEnUDTKw1BBJ1I3EfyMWtkbNsbPWUQAf4iAAB6zA9dcuWESwUduaEys3EyIJ7yde81zlC4MyKSAom4xO7LbiJPplT+E0s2zcIuOCFGqId/psPK6hw79wQ8nl7qZ3MEqUyDcpHNYsOLZge4aDiT2zbuEopa34MrmykltFIEjhMzU+H5t104NFwevmsB6wD+OpLCMHcmYJEajgomABI16yaWUsUpSo0q4605yFApKvmhiQDzWXeAfK6uFRYDMztdOSGRFGRy45huEmco8qPVV41BgUYIA2/WZIPE8QAPhV6St1iuV2lRSlJpQZHIHjeinyNV/ttjrljCPdtHK4KgNAJGZgDE8YqxyD4/cnyNR/bHky5icM1m0BmLJvMAAMCST3V0wrXF8W453+lNc1LE/suus1q+zMWY3QSSSSTkGpJr7asT7K8gDBWimcuzNmYxAmAIUdWlad7FAHKozN1Dh2sdwH+wDV82UZZzOPB4MZw8cRlymdgBJIAG8ndVbatc6HNXyyNT6Cn5nTsNdXDFiGuHMd4UdFe4cT2n1RVquTqjsWQggTxOpkkkyST3moMcXBVkTNBM6gRIInUie6rdKFKFu+gMvnzdbI0DuIGUe321ZtYq22iup7mBqao7tlW0ZQ3eAfnVN1faBbrk+QkdZ1uaAcakyM/S5o6gdT3kbu4e3hXbGEtoSVRVJ00AGg4d1T0Ih5RQBAEAdVeqUqKUpSgUpSgUpSgUpSgUpSgUpSgUpSgUpSgUpSgUpSgUpSgUpSgixGGVxDCY1HAg9akag9orBzqty8t3E6K0CbxRxzEI5oIBGp1gHTjNfR1yKsSzONsSxhrzst1gjrs7WUFyJZQWLMMpk5mMDuO8CNHaXvN2/eN+XVulLWIpk8o7XK1wqqFLdwgq5J1Q6QVHEKfwiokvWhcsi1fLlnIZdsXkbK4eiWPEDWtuuRS00u0pSo0z+V7gAt5nyKbkMc2TTI5HOkRqBUPJ91TcuLaubQC3bIm4XAYm7OsmNy+ytUigFVmt7Z2O/Sdk+TKLnNy5SPKGbpiN01Vy4wzJg5GyxsyM8SA8iSswBEcZ4VuUpGRON9sR1xanQlhoJ8EARsmBJEA5trBPCIjjVrDbfIufNmyjN93vjXdpv6q0aUs0/dkcg737k+RrUu3QoliAO2sjkwXUZ12ZnmwSeZAnXMPkNfVrWlaw0HMxzN1ncPRHD59ZNJ5THh4l7nWifxn1eKPj3V5TFWEBAuW1AmecN/OksSd/MeSfJbqNXKyL32csMcxDSc2oaOntMw7vCN8KsV2s30utylZAk3rcdedY1y9v8AjX94ddW6zRyLaDFgCN2gPNGU2zoO3ZJPo9prSqTXSxfZVa7yhaUkNdtgggEFlEFuiDJ0J4CnKOJ2VtrkSFGYjsG8+oSfVVW/yRbeZLwxLaNpzwQ8djA6/CKRXaTM9LRx9of3qeN4y+LmzceGVp6sp6qDH2jI2qaEg84aEAkg66EAE+o1RH2dsSxynnMGOpglXZ93bmKnrXQ16PIVqZ5+8+NpBDgqP8PhH7dd+gq1il5/Rc/WFrNl2qZurMJ3xunr0rlvlCy0FbtszuhlM84LpB8ogd5Aqt+o7RXKcxHGTvlsxn114HIFnMGOYsGVsxbWVKkT2cxRHUBx1p6l5tK7dVQWZgqjeSYA7yaiHKFozF1NBJ5w0GXNJ18nXu1rxe5NRhcBzRcjNzjwAHN15u7hVRfs/aAIl4IgiRu2YtEbvJA9lIrtZnLpq27gYSCDqRprqDBHeCCPVXqocJhxbXKJ3sZOpJYlmJ7ySalNZahWt8o2Wy5bts5pyw6nNG/LrrHZS3yhaYSt22R1hlI3hd8+UQO81TX7P2AFUKcoVVInR8klc/WQSTNdHIVvrczEy05spQrOnDIo06q16sXmuDH2jli6nOIC85ecSAQBrrIIPrFWayLP2esJGUMIYGAx4bPTum2pgdvAkVr1Jrpcb7eLtwKCzEAASSTAAHEmoF5RskwLtueaemvjkBOPEkR1yKkxWHFxSjTB6tDpqCD3gVQu8g2mJL5mmCQTpMoSY62KLPdpEmkV2Tq6W25RsgEm7bgTJzrAjLMmf8S/vDrr0Mbb84n7w6lPyZT+IddUrfINlRpmBCoobMcw2ZlTJ8bdJ45RO6lvkG0IjPAKmM2nNCLHXB2aT6PfV9UvL6LQ5TskAi9bgkAHOsEmQADO/Q+w1NaxCN0WVu4g8SOHarDvB6qoXOQrTb82oymG3qZlT2GdfVXrD8i2kFwKGG0XK0MRuzaiNx551FPUjUt38ZbQw9xFJBPOYDRRLHXgBqTwrgxtvTwia7ucNdVGnrZR+IddVcdyLau5c+bmoyDnHc6lTMzJg799c/UtuQSXMNm3jrRoMDdmtoe8dWlPUvJo3HCgsSAAJJOgAG8k1XHKNnztvo5umvRG9t+7tqXE2A6MjbmUqY3wwg1Qu8hWTwIHkgwM0Fc/pQTrUiu1nV0tfrGzlzbW3liZzrEQxmZ3QrH8J6q9DGW8wXaJmMwMwkxvgdlUW+z9ogglzIM6jUsLgLHTf4V+zXdpXrDch2rbBkzCDMZjG9yBHUM7QN2vYKvql5tSlKVlspSlArjMACSYA1JNVrmLi6lqJLKzE9QUqPiW+Bry18O9ywRHg1MzvFzOpjuy/EVaS0i460RmFxCCQAQwiWAIE9ZBBA7RUacq2GgC9aMxEOpmZAjXiQfYarPyDaPF4DK4AaAGRAisI1mAN8jsr2eRrcqecCuSNfN7SOH/AFG+FX1ZvNdsYhHEoysIBlSCIIkHTrGtS1S5M5Mt4cFbYIBjQmdyhdOrdPeSeNOUNtKbLdm53RnsnN4s74526Km17Lc1u8Y/lRbTqrKTKlpG4AMq6nh0h7DVVPtFbKlgraTpKyQLa3ZGvktp1warqMdzZVSNzBtnmgm1O4xp4WBxWJ1rxatY7TMlucp1GSC2zGTNx6RYEDq6q3pj8lznLK+/8fQYe7mVWIKyAYMSJ4GNKkNYbrjAQVLEGNG2II5jzMCOnkmD3Vo8mC7sxtulrvyzE6Tl5sx1aVmYdIyvZ08pWdPDW9VLDnrqqzmYa7hBk9lP1lZ18Nb0389dObn118kFu4TVL/hyzlyc/LlKkZtD0403CM7QBAEjTQV7xnINm7OdSRMxOk5UT6UA9Z66eqXmuvjrQmbiCGymWAhsubKe3LrHVrVisj/h+1rrc1cOeeempYq3eCZ6uaumla9Sa6WL7KVW/SvC7ICYt5yZ3S2VRHbDfu1ZqNFKUoFKUoFKUoOMJ31mW8Bdt82zdUINyXEL5R5KsGU5ewzHdWpSraTFs/Z4rztj3L/m02eK87Y9y/5taFKWUz9nivO2Pcv+bTZ4rztj3L/m1oUpZTP2eK87Y9y/5tNnivO2Pcv+bWhSllM/Z4rztj3L/m02eK87Y9y/5taFKWUz9nivO2Pcv+bTZ4rztj3L/m1oUpZTP2eK87Y9y/5tNnivO2Pcv+bWhSllM7Z4rztj3L/m1GeVTalcQoUhSyskstwCAQoic8kczjOhOsatZnLdpWNiQDGIQjsIDa1Y35ZmJiNnUbFOM3grQO5WVrjfiKsoB7BPea9bPFedse5f82r4rtS1pn7PFedse5f82mzxXnbHuX/NrQpS1pn7PFedse5f82mzxXnbHuX/ADa0KUspn7PFedse5f8ANps8V52x7l/za0KUspn7PFedse5f82mzxXnbHuX/ADa0KUspn7PFedse5f8ANps8V52x7l/za0KUspn7PFedse5f82uG1ivO2Pcv+bWjSllKeBwItlmLF7jRmdokgTCgDQKJMAdZOpJNMdgc5VlYpcWcriJAMSpB0KmBI7ARBANXKUsqKpnC3ivOWD/8Tj4bSu5MV5yx7t/660KUs0s/JivOWPdv/XTJivOWPdv/AF1oUpZTPyYrzlj3b/11Hcxl6zreVGt8XtyMk8WQzzetgdOqJI1KixKAowIkFSCOwilpMKIxt26TsVQICV2jyQxBg5EG8AyMxI1Gk7695MV5yx7t/wCun2eUDC2APM2/oFaFWZoiLjdn5MV5yx7t/wCumTFecse7f+utClS1pn5MV5yx7t/6641vFH+8sjt2Tn/9K0aUspUwGCFsE5izsZd2iWMQN2gAGgA0FW6UqLEU/9k=)"
      ]
    },
    {
      "cell_type": "code",
      "metadata": {
        "id": "hUeDOpBnsc_N",
        "colab_type": "code",
        "colab": {}
      },
      "source": [
        ""
      ],
      "execution_count": 0,
      "outputs": []
    },
    {
      "cell_type": "code",
      "metadata": {
        "id": "IadczJc1-eJv",
        "colab_type": "code",
        "outputId": "26ace830-d785-467b-ccde-8473835b3091",
        "colab": {
          "base_uri": "https://localhost:8080/",
          "height": 450
        }
      },
      "source": [
        "import matplotlib.pyplot as plt\n",
        "(x_train, y_train), (x_test, y_test) = tf.keras.datasets.fashion_mnist.load_data()\n",
        "image_index = 7777 # You may select anything up to 60,000\n",
        "print(y_train[image_index]) # The label is 8\n",
        "print(x_train[image_index].shape) # The image is 28 x 28 pixels\n",
        "plt.imshow(x_train[image_index], cmap='Greys')"
      ],
      "execution_count": 0,
      "outputs": [
        {
          "output_type": "stream",
          "text": [
            "Downloading data from https://storage.googleapis.com/tensorflow/tf-keras-datasets/train-labels-idx1-ubyte.gz\n",
            "32768/29515 [=================================] - 0s 0us/step\n",
            "Downloading data from https://storage.googleapis.com/tensorflow/tf-keras-datasets/train-images-idx3-ubyte.gz\n",
            "26427392/26421880 [==============================] - 0s 0us/step\n",
            "Downloading data from https://storage.googleapis.com/tensorflow/tf-keras-datasets/t10k-labels-idx1-ubyte.gz\n",
            "8192/5148 [===============================================] - 0s 0us/step\n",
            "Downloading data from https://storage.googleapis.com/tensorflow/tf-keras-datasets/t10k-images-idx3-ubyte.gz\n",
            "4423680/4422102 [==============================] - 0s 0us/step\n",
            "5\n",
            "(28, 28)\n"
          ],
          "name": "stdout"
        },
        {
          "output_type": "execute_result",
          "data": {
            "text/plain": [
              "<matplotlib.image.AxesImage at 0x7f36a3ca3ac8>"
            ]
          },
          "metadata": {
            "tags": []
          },
          "execution_count": 18
        },
        {
          "output_type": "display_data",
          "data": {
            "image/png": "[encoded data removed]",
            "text/plain": [
              "<Figure size 432x288 with 1 Axes>"
            ]
          },
          "metadata": {
            "tags": [],
            "needs_background": "light"
          }
        }
      ]
    },
    {
      "cell_type": "code",
      "metadata": {
        "id": "c0VRNe8O-nRi",
        "colab_type": "code",
        "colab": {}
      },
      "source": [
        ""
      ],
      "execution_count": 0,
      "outputs": []
    },
    {
      "cell_type": "markdown",
      "metadata": {
        "id": "qydGctdycVf7",
        "colab_type": "text"
      },
      "source": [
        "### Exercise 2\n"
      ]
    },
    {
      "cell_type": "markdown",
      "metadata": {
        "id": "P44oVOMkciVi",
        "colab_type": "text"
      },
      "source": [
        "Create a convolutional neural network to classify images of the Fashion MNIST dataset.\n",
        "\n",
        "Fashion-MNIST is a dataset of Zalando's article images consisting of a training set of 60,000 examples and a test set of 10,000 examples.\n",
        "\n",
        "Each example is a 28x28 grayscale image, associated with a label from 10 classes."
      ]
    },
    {
      "cell_type": "code",
      "metadata": {
        "id": "q4KUrPQdI8OP",
        "colab_type": "code",
        "colab": {}
      },
      "source": [
        "from keras.datasets import fashion_mnist\n",
        "from tensorflow.keras.layers import (Input, Conv2D, MaxPooling2D, Flatten, Dense, Dropout, BatchNormalization)\n",
        "from tensorflow.keras.models import Sequential\n",
        "import numpy as np\n",
        "import matplotlib.pyplot as plt"
      ],
      "execution_count": 0,
      "outputs": []
    },
    {
      "cell_type": "code",
      "metadata": {
        "id": "v0dn3E2WeLpV",
        "colab_type": "code",
        "colab": {}
      },
      "source": [
        "#load data from fashion_mnist into sets for training and testing\n",
        "#YOUR CODE HERE\n",
        "\n",
        "#assign names to labels\n",
        "class_names={0:'top', 1:'trouser', 2:'pullover', 3:'dress', 4:'coat', 5:'sandal', 6:'shirt', 7:'sneaker', 8:'bag', 9:'boot'}\n",
        "\n",
        "#visualize data\n",
        "plt.figure(figsize=(10,10))\n",
        "for i in range(9):\n",
        "    plt.subplot(3,3,i+1)\n",
        "    plt.xticks([])\n",
        "    plt.yticks([])\n",
        "    plt.grid(False)\n",
        "    plt.imshow(train_images[i], cmap='binary')\n",
        "    plt.xlabel(class_names[train_labels[i]])\n",
        "plt.show()"
      ],
      "execution_count": 0,
      "outputs": []
    },
    {
      "cell_type": "markdown",
      "metadata": {
        "id": "l5uUiyqWdWWQ",
        "colab_type": "text"
      },
      "source": [
        "**Pre-process data** "
      ]
    },
    {
      "cell_type": "code",
      "metadata": {
        "id": "IjzS9q3SI6vF",
        "colab_type": "code",
        "colab": {}
      },
      "source": [
        "#normalize the images\n",
        "#YOUR CODE HERE\n",
        "\n",
        "#reshape the images\n",
        "#YOUR CODE HERE"
      ],
      "execution_count": 0,
      "outputs": []
    },
    {
      "cell_type": "markdown",
      "metadata": {
        "id": "FUik3_qFdl5M",
        "colab_type": "text"
      },
      "source": [
        "**Build model**"
      ]
    },
    {
      "cell_type": "code",
      "metadata": {
        "id": "xyJdgGvJI822",
        "colab_type": "code",
        "colab": {}
      },
      "source": [
        "model = #YOUR CODE HERE"
      ],
      "execution_count": 0,
      "outputs": []
    },
    {
      "cell_type": "markdown",
      "metadata": {
        "id": "JTxkbNoadozr",
        "colab_type": "text"
      },
      "source": [
        "**Train model**"
      ]
    },
    {
      "cell_type": "code",
      "metadata": {
        "id": "qZX-ofwbI9Uj",
        "colab_type": "code",
        "colab": {}
      },
      "source": [
        "model.compile(optimizer = adam, loss= 'sparse_categorical_crossentropy', metrics = ['accuracy'])\n",
        "model.fit(\"\"\"YOUR CODE HERE\"\"\")"
      ],
      "execution_count": 0,
      "outputs": []
    },
    {
      "cell_type": "markdown",
      "metadata": {
        "id": "15ZICl5qdsDw",
        "colab_type": "text"
      },
      "source": [
        "**Evaluate perfomance**"
      ]
    },
    {
      "cell_type": "code",
      "metadata": {
        "id": "koCOUiQ0I91Y",
        "colab_type": "code",
        "colab": {}
      },
      "source": [
        "loss, acc = #YOUR CODE HERE\n",
        "print(\"Training : loss={:.3f} - acc={:.3f}\".format(loss, acc))\n",
        "\n",
        "loss, acc = #YOUR CODE HERE\n",
        "print(\"Test : loss={:.3f} - acc={:.3f}\".format(loss, acc))"
      ],
      "execution_count": 0,
      "outputs": []
    },
    {
      "cell_type": "markdown",
      "metadata": {
        "id": "RRR1-nQaeAmj",
        "colab_type": "text"
      },
      "source": [
        "**Improve model**"
      ]
    },
    {
      "cell_type": "markdown",
      "metadata": {
        "id": "V-MgNtL3jSpu",
        "colab_type": "text"
      },
      "source": [
        "If you observed over-fitting, improve your model by using regularization"
      ]
    },
    {
      "cell_type": "code",
      "metadata": {
        "id": "M2D71xlTI-fz",
        "colab_type": "code",
        "colab": {}
      },
      "source": [
        "model.add(\"\"\"YOUR CODE HERE\"\"\")"
      ],
      "execution_count": 0,
      "outputs": []
    },
    {
      "cell_type": "markdown",
      "metadata": {
        "id": "PNE0VHJHecKx",
        "colab_type": "text"
      },
      "source": [
        "**Re-evaluate performance**"
      ]
    },
    {
      "cell_type": "code",
      "metadata": {
        "id": "hP4Df0a1mIEi",
        "colab_type": "code",
        "colab": {}
      },
      "source": [
        "predictions = #YOUR CODE HERE\n",
        "\n",
        "#visualize predictions \n",
        "plt.figure(figsize=(10,10))\n",
        "for i in range(9):\n",
        "    plt.subplot(3,3,i+1)\n",
        "    plt.xticks([])\n",
        "    plt.yticks([])\n",
        "    plt.grid(False)\n",
        "    plt.imshow(test_images[i], cmap='binary')\n",
        "    actual_class=class_names[test_labels[i]]\n",
        "    if predictions[i]==test_labels[i]:\n",
        "      plt.xlabel(actual_class, color='green')\n",
        "    else:\n",
        "      plt.xlabel(actual_class, color='red')\n",
        "plt.show()\n"
      ],
      "execution_count": 0,
      "outputs": []
    }
  ]
}